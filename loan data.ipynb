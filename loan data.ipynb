{
 "cells": [
  {
   "cell_type": "code",
   "execution_count": 1,
   "id": "41889b5d-17d1-43f5-856f-cebb555809f1",
   "metadata": {},
   "outputs": [
    {
     "data": {
      "text/plain": [
       "array([[4.8010226e+07,           nan, 3.5000000e+04, ...,           nan,\n",
       "                  nan, 9.4529600e+03],\n",
       "       [5.7693261e+07,           nan, 3.0000000e+04, ...,           nan,\n",
       "                  nan, 4.6797000e+03],\n",
       "       [5.9432726e+07,           nan, 1.5000000e+04, ...,           nan,\n",
       "                  nan, 1.9698300e+03],\n",
       "       ...,\n",
       "       [5.0415990e+07,           nan, 1.0000000e+04, ...,           nan,\n",
       "                  nan, 2.1856400e+03],\n",
       "       [4.6154151e+07,           nan,           nan, ...,           nan,\n",
       "                  nan, 3.1994000e+03],\n",
       "       [6.6055249e+07,           nan, 1.0000000e+04, ...,           nan,\n",
       "                  nan, 3.0190000e+02]])"
      ]
     },
     "execution_count": 1,
     "metadata": {},
     "output_type": "execute_result"
    }
   ],
   "source": [
    "import pandas as pd\n",
    "import numpy as np\n",
    "file=\"loan-data.csv\"\n",
    "rawdata=np.genfromtxt(file, delimiter=';',skip_header=1,autostrip=True)\n",
    "rawdata"
   ]
  },
  {
   "cell_type": "code",
   "execution_count": 2,
   "id": "b158558f-6052-45b7-9599-968d106b57e1",
   "metadata": {},
   "outputs": [
    {
     "data": {
      "text/plain": [
       "(10000, 14)"
      ]
     },
     "execution_count": 2,
     "metadata": {},
     "output_type": "execute_result"
    }
   ],
   "source": [
    "rawdata.shape"
   ]
  },
  {
   "cell_type": "code",
   "execution_count": 3,
   "id": "3dbca35b-b2f5-4b8e-b165-bd3dcfe00f97",
   "metadata": {},
   "outputs": [
    {
     "data": {
      "text/plain": [
       "array([[False,  True, False, ...,  True,  True, False],\n",
       "       [False,  True, False, ...,  True,  True, False],\n",
       "       [False,  True, False, ...,  True,  True, False],\n",
       "       ...,\n",
       "       [False,  True, False, ...,  True,  True, False],\n",
       "       [False,  True,  True, ...,  True,  True, False],\n",
       "       [False,  True, False, ...,  True,  True, False]])"
      ]
     },
     "execution_count": 3,
     "metadata": {},
     "output_type": "execute_result"
    }
   ],
   "source": [
    "np.isnan(rawdata)"
   ]
  },
  {
   "cell_type": "code",
   "execution_count": 4,
   "id": "83d8722e-7b83-4d30-95a7-a3a561da0126",
   "metadata": {},
   "outputs": [
    {
     "data": {
      "text/plain": [
       "88005"
      ]
     },
     "execution_count": 4,
     "metadata": {},
     "output_type": "execute_result"
    }
   ],
   "source": [
    "np.isnan(rawdata).sum()"
   ]
  },
  {
   "cell_type": "code",
   "execution_count": 5,
   "id": "b84c4039-b2b9-4f9c-bbfb-b181b6c64f38",
   "metadata": {},
   "outputs": [
    {
     "data": {
      "text/plain": [
       "68616519.0"
      ]
     },
     "execution_count": 5,
     "metadata": {},
     "output_type": "execute_result"
    }
   ],
   "source": [
    "np.nanmax(rawdata)"
   ]
  },
  {
   "cell_type": "code",
   "execution_count": 6,
   "id": "ec168df4-e097-4f2f-a7b7-6c236f17807f",
   "metadata": {},
   "outputs": [
    {
     "name": "stderr",
     "output_type": "stream",
     "text": [
      
     ]
    }
   ],
   "source": [
    "temp_fill=np.nanmax(rawdata)+1\n",
    "temp_mean=np.nanmean(rawdata, axis=0)"
   ]
  },
  {
   "cell_type": "code",
   "execution_count": 7,
   "id": "566f6d99-9443-4295-81c7-9efbc6bbd846",
   "metadata": {},
   "outputs": [
    {
     "data": {
      "text/plain": [
       "array([5.40158092e+07,            nan, 1.52734632e+04,            nan,\n",
       "       1.53110421e+04,            nan, 1.66172948e+01, 4.40922179e+02,\n",
       "                  nan,            nan,            nan,            nan,\n",
       "                  nan, 3.14385094e+03])"
      ]
     },
     "execution_count": 7,
     "metadata": {},
     "output_type": "execute_result"
    }
   ],
   "source": [
    "temp_mean"
   ]
  },
  {
   "cell_type": "code",
   "execution_count": 8,
   "id": "877c738f-9de5-4a3c-b0a5-c2e326f622e5",
   "metadata": {},
   "outputs": [
    {
     "name": "stderr",
     "output_type": "stream",
     "text": [
      
     ]
    }
   ],
   "source": [
    "temp_stats=np.array([np.nanmin(rawdata,axis=0),\n",
    "                     temp_mean,\n",
    "                     np.nanmax(rawdata,axis=0)])"
   ]
  },
  {
   "cell_type": "code",
   "execution_count": 9,
   "id": "0949d249-b822-4088-b956-6fbba020e1fb",
   "metadata": {},
   "outputs": [
    {
     "data": {
      "text/plain": [
       "array([[3.73332000e+05,            nan, 1.00000000e+03,            nan,\n",
       "        1.00000000e+03,            nan, 6.00000000e+00, 3.14200000e+01,\n",
       "                   nan,            nan,            nan,            nan,\n",
       "                   nan, 0.00000000e+00],\n",
       "       [5.40158092e+07,            nan, 1.52734632e+04,            nan,\n",
       "        1.53110421e+04,            nan, 1.66172948e+01, 4.40922179e+02,\n",
       "                   nan,            nan,            nan,            nan,\n",
       "                   nan, 3.14385094e+03],\n",
       "       [6.86165190e+07,            nan, 3.50000000e+04,            nan,\n",
       "        3.50000000e+04,            nan, 2.89900000e+01, 1.37297000e+03,\n",
       "                   nan,            nan,            nan,            nan,\n",
       "                   nan, 4.19136200e+04]])"
      ]
     },
     "execution_count": 9,
     "metadata": {},
     "output_type": "execute_result"
    }
   ],
   "source": [
    "temp_stats"
   ]
  },
  {
   "cell_type": "code",
   "execution_count": 10,
   "id": "028ecdaa-6532-464e-ab74-818c1567c225",
   "metadata": {},
   "outputs": [
    {
     "data": {
      "text/plain": [
       "array([ 1,  3,  5,  8,  9, 10, 11, 12], dtype=int64)"
      ]
     },
     "execution_count": 10,
     "metadata": {},
     "output_type": "execute_result"
    }
   ],
   "source": [
    "column_strings=np.argwhere(np.isnan(temp_mean)).squeeze()\n",
    "column_strings"
   ]
  },
  {
   "cell_type": "code",
   "execution_count": 11,
   "id": "f1893e03-ad3e-45c9-9b90-8188b117a875",
   "metadata": {},
   "outputs": [
    {
     "data": {
      "text/plain": [
       "array([ 0,  2,  4,  6,  7, 13], dtype=int64)"
      ]
     },
     "execution_count": 11,
     "metadata": {},
     "output_type": "execute_result"
    }
   ],
   "source": [
    "column_numeric=np.argwhere(np.isnan(temp_mean)==False).squeeze()\n",
    "column_numeric"
   ]
  },
  {
   "cell_type": "code",
   "execution_count": 12,
   "id": "4bd9eb4d-badc-43be-8cd8-0013c488b9c9",
   "metadata": {},
   "outputs": [
    {
     "data": {
      "text/plain": [
       "array([['May-15', 'Current', '36 months', ..., 'Verified',\n",
       "        'https://www.lendingclub.com/browse/loanDetail.action?loan_id=48010226',\n",
       "        'CA'],\n",
       "       ['', 'Current', '36 months', ..., 'Source Verified',\n",
       "        'https://www.lendingclub.com/browse/loanDetail.action?loan_id=57693261',\n",
       "        'NY'],\n",
       "       ['Sep-15', 'Current', '36 months', ..., 'Verified',\n",
       "        'https://www.lendingclub.com/browse/loanDetail.action?loan_id=59432726',\n",
       "        'PA'],\n",
       "       ...,\n",
       "       ['Jun-15', 'Current', '36 months', ..., 'Source Verified',\n",
       "        'https://www.lendingclub.com/browse/loanDetail.action?loan_id=50415990',\n",
       "        'CA'],\n",
       "       ['Apr-15', 'Current', '36 months', ..., 'Source Verified',\n",
       "        'https://www.lendingclub.com/browse/loanDetail.action?loan_id=46154151',\n",
       "        'OH'],\n",
       "       ['Dec-15', 'Current', '36 months', ..., '',\n",
       "        'https://www.lendingclub.com/browse/loanDetail.action?loan_id=66055249',\n",
       "        'IL']], dtype='<U69')"
      ]
     },
     "execution_count": 12,
     "metadata": {},
     "output_type": "execute_result"
    }
   ],
   "source": [
    "import pandas as pd\n",
    "import numpy as np\n",
    "file=\"loan-data.csv\"\n",
    "loandatastrings=np.genfromtxt(file,\n",
    "                      delimiter=';',\n",
    "                      skip_header=1,\n",
    "                      autostrip=True,\n",
    "                     usecols=column_strings,\n",
    "                     dtype='str')\n",
    "loandatastrings"
   ]
  },
  {
   "cell_type": "code",
   "execution_count": 13,
   "id": "e021991a-2f95-4613-8a58-3b84484b1d29",
   "metadata": {},
   "outputs": [
    {
     "data": {
      "text/plain": [
       "array([[48010226,    35000,    35000,       13,     1184,     9452],\n",
       "       [57693261,    30000,    30000,       -1,      938,     4679],\n",
       "       [59432726,    15000,    15000,       -1,      494,     1969],\n",
       "       ...,\n",
       "       [50415990,    10000,    10000,       -1,       -1,     2185],\n",
       "       [46154151,       -1,    10000,       16,      354,     3199],\n",
       "       [66055249,    10000,    10000,       -1,      309,      301]])"
      ]
     },
     "execution_count": 13,
     "metadata": {},
     "output_type": "execute_result"
    }
   ],
   "source": [
    "import pandas as pd\n",
    "import numpy as np\n",
    "file=\"loan-data.csv\"\n",
    "loandatanumeric=np.genfromtxt(file,\n",
    "                      delimiter=';',\n",
    "                      skip_header=1,\n",
    "                      autostrip=True,\n",
    "                     usecols=column_numeric,\n",
    "                     dtype='int32')\n",
    "loandatanumeric"
   ]
  },
  {
   "cell_type": "code",
   "execution_count": 16,
   "id": "2eeee044-45e5-4962-8070-70eda4d29d14",
   "metadata": {},
   "outputs": [
    {
     "data": {
      "text/plain": [
       "array([[48010226,    35000,    35000,       13,     1184,     9452],\n",
       "       [57693261,    30000,    30000, 68616520,      938,     4679],\n",
       "       [59432726,    15000,    15000, 68616520,      494,     1969],\n",
       "       ...,\n",
       "       [50415990,    10000,    10000, 68616520, 68616520,     2185],\n",
       "       [46154151, 68616520,    10000,       16,      354,     3199],\n",
       "       [66055249,    10000,    10000, 68616520,      309,      301]])"
      ]
     },
     "execution_count": 16,
     "metadata": {},
     "output_type": "execute_result"
    }
   ],
   "source": [
    "import pandas as pd\n",
    "import numpy as np\n",
    "file=\"loan-data.csv\"\n",
    "loandatanumeric=np.genfromtxt(file,\n",
    "                      delimiter=';',\n",
    "                      skip_header=1,\n",
    "                      autostrip=True,\n",
    "                     usecols=column_numeric,\n",
    "                     filling_values=temp_fill,\n",
    "                              dtype='int32'\n",
    "                             )\n",
    "loandatanumeric"
   ]
  },
  {
   "cell_type": "code",
   "execution_count": 17,
   "id": "4b24fe7b-6205-48c7-9836-9c0c6d78759d",
   "metadata": {},
   "outputs": [
    {
     "data": {
      "text/plain": [
       "array(['id', 'issue_d', 'loan_amnt', 'loan_status', 'funded_amnt', 'term',\n",
       "       'int_rate', 'installment', 'grade', 'sub_grade',\n",
       "       'verification_status', 'url', 'addr_state', 'total_pymnt'],\n",
       "      dtype='<U19')"
      ]
     },
     "execution_count": 17,
     "metadata": {},
     "output_type": "execute_result"
    }
   ],
   "source": [
    "import pandas as pd\n",
    "import numpy as np\n",
    "file=\"loan-data.csv\"\n",
    "header_full=np.genfromtxt(file,\n",
    "                      delimiter=';',\n",
    "                      skip_footer=rawdata.shape[0],\n",
    "                      autostrip=True,\n",
    "                     dtype='str')\n",
    "header_full"
   ]
  },
  {
   "cell_type": "code",
   "execution_count": 18,
   "id": "109401cc-7293-4924-99ca-7c00305c24ed",
   "metadata": {},
   "outputs": [
    {
     "data": {
      "text/plain": [
       "array(['issue_d', 'loan_status', 'term', 'grade', 'sub_grade',\n",
       "       'verification_status', 'url', 'addr_state'], dtype='<U19')"
      ]
     },
     "execution_count": 18,
     "metadata": {},
     "output_type": "execute_result"
    }
   ],
   "source": [
    "header_strings,header_numeric=header_full[column_strings],header_full[column_numeric]\n",
    "header_strings"
   ]
  },
  {
   "cell_type": "code",
   "execution_count": 19,
   "id": "c1ed3975-fccb-475a-924c-45512f4679fb",
   "metadata": {},
   "outputs": [
    {
     "data": {
      "text/plain": [
       "array(['id', 'loan_amnt', 'funded_amnt', 'int_rate', 'installment',\n",
       "       'total_pymnt'], dtype='<U19')"
      ]
     },
     "execution_count": 19,
     "metadata": {},
     "output_type": "execute_result"
    }
   ],
   "source": [
    "header_numeric"
   ]
  },
  {
   "cell_type": "code",
   "execution_count": null,
   "id": "8708e377-bbe9-4f54-b0fe-c4db0585f4f3",
   "metadata": {},
   "outputs": [],
   "source": []
  },
  {
   "cell_type": "code",
   "execution_count": null,
   "id": "e90e7db5-901a-4dfb-977f-94d9827643ed",
   "metadata": {},
   "outputs": [],
   "source": []
  },
  {
   "cell_type": "code",
   "execution_count": null,
   "id": "6688b803-b40e-48b6-b294-5ce4bd060f9d",
   "metadata": {},
   "outputs": [],
   "source": []
  }
 ],
 "metadata": {
  "kernelspec": {
   "display_name": "Python 3 (ipykernel)",
   "language": "python",
   "name": "python3"
  },
  "language_info": {
   "codemirror_mode": {
    "name": "ipython",
    "version": 3
   },
   "file_extension": ".py",
   "mimetype": "text/x-python",
   "name": "python",
   "nbconvert_exporter": "python",
   "pygments_lexer": "ipython3",
   "version": "3.11.7"
  }
 },
 "nbformat": 4,
 "nbformat_minor": 5
}
